{
 "cells": [
  {
   "cell_type": "code",
   "execution_count": 12,
   "metadata": {},
   "outputs": [],
   "source": [
    "import pandas as pd\n",
    "from constants import current_stock_data, current_news_data"
   ]
  },
  {
   "cell_type": "code",
   "execution_count": 18,
   "metadata": {},
   "outputs": [],
   "source": [
    "\n",
    "df = pd.read_csv(current_news_data)\n",
    "\n"
   ]
  },
  {
   "cell_type": "code",
   "execution_count": 19,
   "metadata": {},
   "outputs": [
    {
     "data": {
      "text/html": [
       "<div>\n",
       "<style scoped>\n",
       "    .dataframe tbody tr th:only-of-type {\n",
       "        vertical-align: middle;\n",
       "    }\n",
       "\n",
       "    .dataframe tbody tr th {\n",
       "        vertical-align: top;\n",
       "    }\n",
       "\n",
       "    .dataframe thead th {\n",
       "        text-align: right;\n",
       "    }\n",
       "</style>\n",
       "<table border=\"1\" class=\"dataframe\">\n",
       "  <thead>\n",
       "    <tr style=\"text-align: right;\">\n",
       "      <th></th>\n",
       "      <th>category</th>\n",
       "      <th>datetime</th>\n",
       "      <th>headline</th>\n",
       "      <th>id</th>\n",
       "      <th>image</th>\n",
       "      <th>related</th>\n",
       "      <th>source</th>\n",
       "      <th>summary</th>\n",
       "      <th>url</th>\n",
       "      <th>ticker</th>\n",
       "      <th>commodity</th>\n",
       "    </tr>\n",
       "  </thead>\n",
       "  <tbody>\n",
       "    <tr>\n",
       "      <th>0</th>\n",
       "      <td>company</td>\n",
       "      <td>1744411867</td>\n",
       "      <td>NEWMONT INVESTIGATION INITIATED BY FORMER LOUI...</td>\n",
       "      <td>133883551</td>\n",
       "      <td>NaN</td>\n",
       "      <td>NEM</td>\n",
       "      <td>Finnhub</td>\n",
       "      <td>NEW YORK and NEW ORLEANS, April 11, 2025 /PRNe...</td>\n",
       "      <td>https://finnhub.io/api/news?id=e288f59469150b8...</td>\n",
       "      <td>NEM</td>\n",
       "      <td>gold</td>\n",
       "    </tr>\n",
       "    <tr>\n",
       "      <th>1</th>\n",
       "      <td>company</td>\n",
       "      <td>1744404023</td>\n",
       "      <td>UBS Upgrades Newmont (NEM)</td>\n",
       "      <td>133882216</td>\n",
       "      <td>NaN</td>\n",
       "      <td>NEM</td>\n",
       "      <td>Fintel</td>\n",
       "      <td>NaN</td>\n",
       "      <td>https://finnhub.io/api/news?id=a9b888efd1b2bdc...</td>\n",
       "      <td>NEM</td>\n",
       "      <td>gold</td>\n",
       "    </tr>\n",
       "    <tr>\n",
       "      <th>2</th>\n",
       "      <td>company</td>\n",
       "      <td>1744401272</td>\n",
       "      <td>Stock Market Today: Stocks Rally Into Final Ho...</td>\n",
       "      <td>133880811</td>\n",
       "      <td>https://s.yimg.com/rz/stage/p/yahoo_finance_en...</td>\n",
       "      <td>NEM</td>\n",
       "      <td>Yahoo</td>\n",
       "      <td>The major indexes made robust progress Friday ...</td>\n",
       "      <td>https://finnhub.io/api/news?id=bb6ced5155cc9ab...</td>\n",
       "      <td>NEM</td>\n",
       "      <td>gold</td>\n",
       "    </tr>\n",
       "    <tr>\n",
       "      <th>3</th>\n",
       "      <td>company</td>\n",
       "      <td>1744397089</td>\n",
       "      <td>Why Newmont Stock Jumped 26% Amid Market Volat...</td>\n",
       "      <td>133881001</td>\n",
       "      <td>https://s.yimg.com/rz/stage/p/yahoo_finance_en...</td>\n",
       "      <td>NEM</td>\n",
       "      <td>Yahoo</td>\n",
       "      <td>An analyst expects Newmont stock to rally furt...</td>\n",
       "      <td>https://finnhub.io/api/news?id=bf9eed811890e0e...</td>\n",
       "      <td>NEM</td>\n",
       "      <td>gold</td>\n",
       "    </tr>\n",
       "    <tr>\n",
       "      <th>4</th>\n",
       "      <td>company</td>\n",
       "      <td>1744395480</td>\n",
       "      <td>Newmont Stock Surges. It’s a Buy as Gold Price...</td>\n",
       "      <td>133881002</td>\n",
       "      <td>https://s.yimg.com/rz/stage/p/yahoo_finance_en...</td>\n",
       "      <td>NEM</td>\n",
       "      <td>Yahoo</td>\n",
       "      <td>Newmont  stock offers leverage to a bullish ma...</td>\n",
       "      <td>https://finnhub.io/api/news?id=c452e3fd278fb73...</td>\n",
       "      <td>NEM</td>\n",
       "      <td>gold</td>\n",
       "    </tr>\n",
       "  </tbody>\n",
       "</table>\n",
       "</div>"
      ],
      "text/plain": [
       "  category    datetime                                           headline  \\\n",
       "0  company  1744411867  NEWMONT INVESTIGATION INITIATED BY FORMER LOUI...   \n",
       "1  company  1744404023                         UBS Upgrades Newmont (NEM)   \n",
       "2  company  1744401272  Stock Market Today: Stocks Rally Into Final Ho...   \n",
       "3  company  1744397089  Why Newmont Stock Jumped 26% Amid Market Volat...   \n",
       "4  company  1744395480  Newmont Stock Surges. It’s a Buy as Gold Price...   \n",
       "\n",
       "          id                                              image related  \\\n",
       "0  133883551                                                NaN     NEM   \n",
       "1  133882216                                                NaN     NEM   \n",
       "2  133880811  https://s.yimg.com/rz/stage/p/yahoo_finance_en...     NEM   \n",
       "3  133881001  https://s.yimg.com/rz/stage/p/yahoo_finance_en...     NEM   \n",
       "4  133881002  https://s.yimg.com/rz/stage/p/yahoo_finance_en...     NEM   \n",
       "\n",
       "    source                                            summary  \\\n",
       "0  Finnhub  NEW YORK and NEW ORLEANS, April 11, 2025 /PRNe...   \n",
       "1   Fintel                                                NaN   \n",
       "2    Yahoo  The major indexes made robust progress Friday ...   \n",
       "3    Yahoo  An analyst expects Newmont stock to rally furt...   \n",
       "4    Yahoo  Newmont  stock offers leverage to a bullish ma...   \n",
       "\n",
       "                                                 url ticker commodity  \n",
       "0  https://finnhub.io/api/news?id=e288f59469150b8...    NEM      gold  \n",
       "1  https://finnhub.io/api/news?id=a9b888efd1b2bdc...    NEM      gold  \n",
       "2  https://finnhub.io/api/news?id=bb6ced5155cc9ab...    NEM      gold  \n",
       "3  https://finnhub.io/api/news?id=bf9eed811890e0e...    NEM      gold  \n",
       "4  https://finnhub.io/api/news?id=c452e3fd278fb73...    NEM      gold  "
      ]
     },
     "execution_count": 19,
     "metadata": {},
     "output_type": "execute_result"
    }
   ],
   "source": [
    "df.head() "
   ]
  },
  {
   "cell_type": "code",
   "execution_count": 21,
   "metadata": {},
   "outputs": [
    {
     "name": "stdout",
     "output_type": "stream",
     "text": [
      "image      668\n",
      "summary    169\n",
      "dtype: int64\n"
     ]
    }
   ],
   "source": [
    "# Shows all columns and their NaN counts (only columns with NaN values)\n",
    "print(df.isna().sum()[df.isna().sum() > 0])"
   ]
  },
  {
   "cell_type": "code",
   "execution_count": null,
   "metadata": {},
   "outputs": [],
   "source": []
  }
 ],
 "metadata": {
  "kernelspec": {
   "display_name": "base",
   "language": "python",
   "name": "python3"
  },
  "language_info": {
   "codemirror_mode": {
    "name": "ipython",
    "version": 3
   },
   "file_extension": ".py",
   "mimetype": "text/x-python",
   "name": "python",
   "nbconvert_exporter": "python",
   "pygments_lexer": "ipython3",
   "version": "3.12.2"
  }
 },
 "nbformat": 4,
 "nbformat_minor": 2
}
